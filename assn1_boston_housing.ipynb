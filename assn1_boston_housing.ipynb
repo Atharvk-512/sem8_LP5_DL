{
 "cells": [
  {
   "cell_type": "markdown",
   "id": "418b676b",
   "metadata": {},
   "source": [
    "# Assn1 : Linear regression by using Deep Neural network: \n",
    "    Implement Boston housing price prediction problem by Linear regression using Deep Neural network. Use Boston House price prediction dataset."
   ]
  },
  {
   "cell_type": "code",
   "execution_count": 1,
   "id": "e7d670ce",
   "metadata": {},
   "outputs": [],
   "source": [
    "import pandas as pd"
   ]
  },
  {
   "cell_type": "code",
   "execution_count": 2,
   "id": "06c0d90f",
   "metadata": {},
   "outputs": [],
   "source": [
    "df = pd.read_csv(\"./1_boston_housing.csv\")"
   ]
  },
  {
   "cell_type": "code",
   "execution_count": 3,
   "id": "2d01fe10",
   "metadata": {},
   "outputs": [
    {
     "data": {
      "text/plain": [
       "lstat     -0.737663\n",
       "ptratio   -0.507787\n",
       "indus     -0.483725\n",
       "tax       -0.468536\n",
       "nox       -0.427321\n",
       "crim      -0.388305\n",
       "rad       -0.381626\n",
       "age       -0.376955\n",
       "chas       0.175260\n",
       "dis        0.249929\n",
       "b          0.333461\n",
       "zn         0.360445\n",
       "rm         0.695360\n",
       "MEDV       1.000000\n",
       "Name: MEDV, dtype: float64"
      ]
     },
     "execution_count": 3,
     "metadata": {},
     "output_type": "execute_result"
    }
   ],
   "source": [
    "df.corr()['MEDV'].sort_values()"
   ]
  },
  {
   "cell_type": "code",
   "execution_count": 4,
   "id": "d9286530",
   "metadata": {},
   "outputs": [],
   "source": [
    "from sklearn.model_selection import train_test_split\n",
    "X = df.loc[:,df.columns!='MEDV']\n",
    "Y = df.loc[:,df.columns=='MEDV']\n",
    "X_train, X_test, Y_train, Y_test = train_test_split(X,Y,test_size=0.25,random_state=123)"
   ]
  },
  {
   "cell_type": "code",
   "execution_count": 5,
   "id": "e98c94e4",
   "metadata": {},
   "outputs": [],
   "source": [
    "# from sklearn.preprocessing import StandardScaler\n",
    "# scaler = StandardScaler()\n",
    "# scaler.fit(X_train)\n",
    "# X_train = scaler.transform(X_train)\n",
    "# X_test = scaler.transform(X_test)"
   ]
  },
  {
   "cell_type": "code",
   "execution_count": 6,
   "id": "15e5390d",
   "metadata": {},
   "outputs": [],
   "source": [
    "from tensorflow.keras.models import Sequential\n",
    "from tensorflow.keras.layers import Dense"
   ]
  },
  {
   "cell_type": "code",
   "execution_count": 7,
   "id": "56bae791",
   "metadata": {},
   "outputs": [],
   "source": [
    "model = Sequential()\n",
    "model.add(Dense(128, input_shape=(13,), activation = 'relu', name = 'layer1'))\n",
    "model.add(Dense(64,activation='relu',name = 'layer2'))\n",
    "model.add(Dense(1,activation ='linear',name ='output_layer'))"
   ]
  },
  {
   "cell_type": "code",
   "execution_count": 8,
   "id": "8803a678",
   "metadata": {},
   "outputs": [],
   "source": [
    "model.compile(optimizer='adam',loss='mse',metrics=['mae'])"
   ]
  },
  {
   "cell_type": "code",
   "execution_count": 9,
   "id": "6f5641a8",
   "metadata": {},
   "outputs": [
    {
     "name": "stdout",
     "output_type": "stream",
     "text": [
      "Model: \"sequential\"\n",
      "_________________________________________________________________\n",
      " Layer (type)                Output Shape              Param #   \n",
      "=================================================================\n",
      " layer1 (Dense)              (None, 128)               1792      \n",
      "                                                                 \n",
      " layer2 (Dense)              (None, 64)                8256      \n",
      "                                                                 \n",
      " output_layer (Dense)        (None, 1)                 65        \n",
      "                                                                 \n",
      "=================================================================\n",
      "Total params: 10113 (39.50 KB)\n",
      "Trainable params: 10113 (39.50 KB)\n",
      "Non-trainable params: 0 (0.00 Byte)\n",
      "_________________________________________________________________\n"
     ]
    }
   ],
   "source": [
    "model.summary()"
   ]
  },
  {
   "cell_type": "code",
   "execution_count": 10,
   "id": "442573cf",
   "metadata": {},
   "outputs": [
    {
     "name": "stdout",
     "output_type": "stream",
     "text": [
      "Epoch 1/100\n",
      "12/12 [==============================] - 1s 15ms/step - loss: 306.3306 - mae: 13.5647 - val_loss: 194.5721 - val_mae: 12.9144\n",
      "Epoch 2/100\n",
      "12/12 [==============================] - 0s 4ms/step - loss: 107.3382 - mae: 7.8969 - val_loss: 87.5469 - val_mae: 7.6802\n",
      "Epoch 3/100\n",
      "12/12 [==============================] - 0s 3ms/step - loss: 70.0428 - mae: 6.0694 - val_loss: 84.2659 - val_mae: 7.5490\n",
      "Epoch 4/100\n",
      "12/12 [==============================] - 0s 5ms/step - loss: 69.8728 - mae: 5.9184 - val_loss: 85.4885 - val_mae: 7.7492\n",
      "Epoch 5/100\n",
      "12/12 [==============================] - 0s 4ms/step - loss: 64.1621 - mae: 5.7386 - val_loss: 76.8480 - val_mae: 7.0481\n",
      "Epoch 6/100\n",
      "12/12 [==============================] - 0s 3ms/step - loss: 57.0713 - mae: 5.3343 - val_loss: 85.6227 - val_mae: 5.8147\n",
      "Epoch 7/100\n",
      "12/12 [==============================] - 0s 3ms/step - loss: 64.5313 - mae: 5.7132 - val_loss: 74.6685 - val_mae: 6.0508\n",
      "Epoch 8/100\n",
      "12/12 [==============================] - 0s 3ms/step - loss: 65.0488 - mae: 6.0120 - val_loss: 89.6743 - val_mae: 8.2151\n",
      "Epoch 9/100\n",
      "12/12 [==============================] - 0s 3ms/step - loss: 66.4820 - mae: 5.9614 - val_loss: 86.2662 - val_mae: 5.7895\n",
      "Epoch 10/100\n",
      "12/12 [==============================] - 0s 3ms/step - loss: 54.7176 - mae: 5.2120 - val_loss: 76.9124 - val_mae: 5.6686\n",
      "Epoch 11/100\n",
      "12/12 [==============================] - 0s 3ms/step - loss: 51.4084 - mae: 5.2333 - val_loss: 70.0223 - val_mae: 6.4762\n",
      "Epoch 12/100\n",
      "12/12 [==============================] - 0s 3ms/step - loss: 48.4973 - mae: 4.8910 - val_loss: 71.8373 - val_mae: 7.2037\n",
      "Epoch 13/100\n",
      "12/12 [==============================] - 0s 4ms/step - loss: 49.2073 - mae: 5.0654 - val_loss: 66.6920 - val_mae: 5.5842\n",
      "Epoch 14/100\n",
      "12/12 [==============================] - 0s 3ms/step - loss: 52.0271 - mae: 5.1078 - val_loss: 71.2421 - val_mae: 5.5577\n",
      "Epoch 15/100\n",
      "12/12 [==============================] - 0s 3ms/step - loss: 42.6149 - mae: 4.5061 - val_loss: 65.7113 - val_mae: 5.5944\n",
      "Epoch 16/100\n",
      "12/12 [==============================] - 0s 3ms/step - loss: 42.8338 - mae: 4.5611 - val_loss: 64.0188 - val_mae: 5.5319\n",
      "Epoch 17/100\n",
      "12/12 [==============================] - 0s 3ms/step - loss: 40.6536 - mae: 4.5164 - val_loss: 68.3481 - val_mae: 5.3420\n",
      "Epoch 18/100\n",
      "12/12 [==============================] - 0s 3ms/step - loss: 40.1878 - mae: 4.4754 - val_loss: 78.1808 - val_mae: 5.5241\n",
      "Epoch 19/100\n",
      "12/12 [==============================] - 0s 4ms/step - loss: 42.1245 - mae: 4.5903 - val_loss: 65.9917 - val_mae: 5.3373\n",
      "Epoch 20/100\n",
      "12/12 [==============================] - 0s 3ms/step - loss: 39.8089 - mae: 4.4646 - val_loss: 80.5634 - val_mae: 5.7443\n",
      "Epoch 21/100\n",
      "12/12 [==============================] - 0s 3ms/step - loss: 40.7164 - mae: 4.4033 - val_loss: 59.8291 - val_mae: 6.2356\n",
      "Epoch 22/100\n",
      "12/12 [==============================] - 0s 3ms/step - loss: 41.3859 - mae: 4.7066 - val_loss: 93.7842 - val_mae: 6.5598\n",
      "Epoch 23/100\n",
      "12/12 [==============================] - 0s 4ms/step - loss: 43.6776 - mae: 4.6862 - val_loss: 60.9785 - val_mae: 6.0454\n",
      "Epoch 24/100\n",
      "12/12 [==============================] - 0s 3ms/step - loss: 35.7893 - mae: 4.2227 - val_loss: 59.7561 - val_mae: 5.7151\n",
      "Epoch 25/100\n",
      "12/12 [==============================] - 0s 4ms/step - loss: 34.5625 - mae: 4.1337 - val_loss: 61.4817 - val_mae: 5.6491\n",
      "Epoch 26/100\n",
      "12/12 [==============================] - 0s 4ms/step - loss: 40.3905 - mae: 4.3248 - val_loss: 60.3846 - val_mae: 6.1777\n",
      "Epoch 27/100\n",
      "12/12 [==============================] - 0s 3ms/step - loss: 38.4360 - mae: 4.4455 - val_loss: 78.7239 - val_mae: 5.8227\n",
      "Epoch 28/100\n",
      "12/12 [==============================] - 0s 3ms/step - loss: 38.2119 - mae: 4.4317 - val_loss: 60.9393 - val_mae: 5.8337\n",
      "Epoch 29/100\n",
      "12/12 [==============================] - 0s 4ms/step - loss: 33.6295 - mae: 4.1147 - val_loss: 61.6225 - val_mae: 6.3578\n",
      "Epoch 30/100\n",
      "12/12 [==============================] - 0s 3ms/step - loss: 34.5818 - mae: 4.1610 - val_loss: 68.4194 - val_mae: 5.7836\n",
      "Epoch 31/100\n",
      "12/12 [==============================] - 0s 4ms/step - loss: 34.7237 - mae: 4.2875 - val_loss: 62.5716 - val_mae: 6.0061\n",
      "Epoch 32/100\n",
      "12/12 [==============================] - 0s 4ms/step - loss: 31.3835 - mae: 3.8888 - val_loss: 75.3433 - val_mae: 5.9228\n",
      "Epoch 33/100\n",
      "12/12 [==============================] - 0s 3ms/step - loss: 30.4825 - mae: 3.8971 - val_loss: 67.7376 - val_mae: 5.8908\n",
      "Epoch 34/100\n",
      "12/12 [==============================] - 0s 3ms/step - loss: 34.1834 - mae: 4.1298 - val_loss: 64.9719 - val_mae: 6.6821\n",
      "Epoch 35/100\n",
      "12/12 [==============================] - 0s 3ms/step - loss: 40.8433 - mae: 4.8550 - val_loss: 73.9956 - val_mae: 5.9210\n",
      "Epoch 36/100\n",
      "12/12 [==============================] - 0s 4ms/step - loss: 31.5363 - mae: 4.0882 - val_loss: 85.3854 - val_mae: 6.2752\n",
      "Epoch 37/100\n",
      "12/12 [==============================] - 0s 3ms/step - loss: 29.9328 - mae: 3.9770 - val_loss: 65.2433 - val_mae: 6.0803\n",
      "Epoch 38/100\n",
      "12/12 [==============================] - 0s 3ms/step - loss: 28.9155 - mae: 3.8681 - val_loss: 79.6089 - val_mae: 6.0246\n",
      "Epoch 39/100\n",
      "12/12 [==============================] - 0s 3ms/step - loss: 28.3573 - mae: 3.7938 - val_loss: 63.0684 - val_mae: 6.6895\n",
      "Epoch 40/100\n",
      "12/12 [==============================] - 0s 4ms/step - loss: 37.7987 - mae: 4.6953 - val_loss: 73.1436 - val_mae: 5.9138\n",
      "Epoch 41/100\n",
      "12/12 [==============================] - 0s 3ms/step - loss: 32.3148 - mae: 4.1813 - val_loss: 88.8940 - val_mae: 6.5643\n",
      "Epoch 42/100\n",
      "12/12 [==============================] - 0s 4ms/step - loss: 29.3611 - mae: 3.9952 - val_loss: 73.5515 - val_mae: 7.5529\n",
      "Epoch 43/100\n",
      "12/12 [==============================] - 0s 3ms/step - loss: 31.8853 - mae: 4.2801 - val_loss: 93.8554 - val_mae: 6.8603\n",
      "Epoch 44/100\n",
      "12/12 [==============================] - 0s 3ms/step - loss: 30.7748 - mae: 4.2749 - val_loss: 67.6406 - val_mae: 6.3935\n",
      "Epoch 45/100\n",
      "12/12 [==============================] - 0s 3ms/step - loss: 32.3652 - mae: 4.1699 - val_loss: 80.7653 - val_mae: 8.0808\n",
      "Epoch 46/100\n",
      "12/12 [==============================] - 0s 4ms/step - loss: 43.5290 - mae: 5.2408 - val_loss: 100.2680 - val_mae: 7.1108\n",
      "Epoch 47/100\n",
      "12/12 [==============================] - 0s 3ms/step - loss: 33.7173 - mae: 4.3024 - val_loss: 96.3768 - val_mae: 7.1902\n",
      "Epoch 48/100\n",
      "12/12 [==============================] - 0s 3ms/step - loss: 34.2896 - mae: 4.3797 - val_loss: 81.2211 - val_mae: 6.2414\n",
      "Epoch 49/100\n",
      "12/12 [==============================] - 0s 5ms/step - loss: 31.3305 - mae: 4.1423 - val_loss: 73.5408 - val_mae: 7.5659\n",
      "Epoch 50/100\n",
      "12/12 [==============================] - 0s 3ms/step - loss: 45.1882 - mae: 5.1171 - val_loss: 72.1445 - val_mae: 7.1298\n",
      "Epoch 51/100\n",
      "12/12 [==============================] - 0s 5ms/step - loss: 44.2446 - mae: 5.2202 - val_loss: 118.5929 - val_mae: 8.5653\n",
      "Epoch 52/100\n",
      "12/12 [==============================] - 0s 4ms/step - loss: 32.9425 - mae: 4.3037 - val_loss: 69.9636 - val_mae: 6.3597\n",
      "Epoch 53/100\n",
      "12/12 [==============================] - 0s 4ms/step - loss: 27.2056 - mae: 3.8684 - val_loss: 72.1568 - val_mae: 6.1191\n",
      "Epoch 54/100\n",
      "12/12 [==============================] - 0s 4ms/step - loss: 28.0959 - mae: 3.9189 - val_loss: 85.5177 - val_mae: 6.5368\n",
      "Epoch 55/100\n",
      "12/12 [==============================] - 0s 3ms/step - loss: 31.5791 - mae: 4.1981 - val_loss: 84.8103 - val_mae: 6.3020\n",
      "Epoch 56/100\n",
      "12/12 [==============================] - 0s 3ms/step - loss: 29.2563 - mae: 4.1660 - val_loss: 69.5546 - val_mae: 6.3588\n",
      "Epoch 57/100\n",
      "12/12 [==============================] - 0s 3ms/step - loss: 27.2791 - mae: 3.8414 - val_loss: 69.2347 - val_mae: 6.2081\n",
      "Epoch 58/100\n",
      "12/12 [==============================] - 0s 3ms/step - loss: 29.7329 - mae: 4.2123 - val_loss: 82.6173 - val_mae: 6.1874\n",
      "Epoch 59/100\n",
      "12/12 [==============================] - 0s 3ms/step - loss: 31.9817 - mae: 4.3122 - val_loss: 123.1600 - val_mae: 8.5538\n",
      "Epoch 60/100\n",
      "12/12 [==============================] - 0s 3ms/step - loss: 30.6512 - mae: 4.2221 - val_loss: 69.2626 - val_mae: 6.4222\n",
      "Epoch 61/100\n",
      "12/12 [==============================] - 0s 4ms/step - loss: 25.1747 - mae: 3.7711 - val_loss: 75.5626 - val_mae: 5.9314\n",
      "Epoch 62/100\n"
     ]
    },
    {
     "name": "stdout",
     "output_type": "stream",
     "text": [
      "12/12 [==============================] - 0s 3ms/step - loss: 25.6565 - mae: 3.7318 - val_loss: 66.2116 - val_mae: 6.4348\n",
      "Epoch 63/100\n",
      "12/12 [==============================] - 0s 3ms/step - loss: 27.4890 - mae: 3.9622 - val_loss: 95.1327 - val_mae: 6.8804\n",
      "Epoch 64/100\n",
      "12/12 [==============================] - 0s 3ms/step - loss: 27.7223 - mae: 4.0241 - val_loss: 83.6123 - val_mae: 6.5014\n",
      "Epoch 65/100\n",
      "12/12 [==============================] - 0s 3ms/step - loss: 25.3101 - mae: 3.6520 - val_loss: 82.7108 - val_mae: 6.1919\n",
      "Epoch 66/100\n",
      "12/12 [==============================] - 0s 4ms/step - loss: 24.9202 - mae: 3.6366 - val_loss: 87.6278 - val_mae: 6.3285\n",
      "Epoch 67/100\n",
      "12/12 [==============================] - 0s 4ms/step - loss: 27.8227 - mae: 3.9884 - val_loss: 100.6389 - val_mae: 7.4071\n",
      "Epoch 68/100\n",
      "12/12 [==============================] - 0s 3ms/step - loss: 29.0630 - mae: 4.0692 - val_loss: 96.0917 - val_mae: 6.7948\n",
      "Epoch 69/100\n",
      "12/12 [==============================] - 0s 4ms/step - loss: 27.0353 - mae: 3.7682 - val_loss: 69.2111 - val_mae: 6.5421\n",
      "Epoch 70/100\n",
      "12/12 [==============================] - 0s 4ms/step - loss: 26.1377 - mae: 3.7934 - val_loss: 76.3356 - val_mae: 6.8715\n",
      "Epoch 71/100\n",
      "12/12 [==============================] - 0s 3ms/step - loss: 28.1922 - mae: 4.1197 - val_loss: 76.3107 - val_mae: 6.0407\n",
      "Epoch 72/100\n",
      "12/12 [==============================] - 0s 3ms/step - loss: 26.4941 - mae: 3.6689 - val_loss: 71.0418 - val_mae: 7.0428\n",
      "Epoch 73/100\n",
      "12/12 [==============================] - 0s 3ms/step - loss: 25.2193 - mae: 3.7556 - val_loss: 77.9025 - val_mae: 6.1733\n",
      "Epoch 74/100\n",
      "12/12 [==============================] - 0s 3ms/step - loss: 24.2113 - mae: 3.8100 - val_loss: 100.3163 - val_mae: 7.2975\n",
      "Epoch 75/100\n",
      "12/12 [==============================] - 0s 3ms/step - loss: 27.0210 - mae: 4.0681 - val_loss: 70.2910 - val_mae: 6.1730\n",
      "Epoch 76/100\n",
      "12/12 [==============================] - 0s 3ms/step - loss: 26.7687 - mae: 3.8440 - val_loss: 73.7151 - val_mae: 6.6159\n",
      "Epoch 77/100\n",
      "12/12 [==============================] - 0s 3ms/step - loss: 24.7834 - mae: 3.6447 - val_loss: 72.9223 - val_mae: 6.3363\n",
      "Epoch 78/100\n",
      "12/12 [==============================] - 0s 3ms/step - loss: 26.8170 - mae: 3.8313 - val_loss: 71.8845 - val_mae: 6.8133\n",
      "Epoch 79/100\n",
      "12/12 [==============================] - 0s 3ms/step - loss: 25.0858 - mae: 3.7963 - val_loss: 87.0211 - val_mae: 6.4470\n",
      "Epoch 80/100\n",
      "12/12 [==============================] - 0s 3ms/step - loss: 23.3093 - mae: 3.4957 - val_loss: 87.8510 - val_mae: 6.3097\n",
      "Epoch 81/100\n",
      "12/12 [==============================] - 0s 3ms/step - loss: 25.4575 - mae: 3.7854 - val_loss: 77.2063 - val_mae: 6.0138\n",
      "Epoch 82/100\n",
      "12/12 [==============================] - 0s 3ms/step - loss: 33.7040 - mae: 4.5103 - val_loss: 76.1227 - val_mae: 7.3982\n",
      "Epoch 83/100\n",
      "12/12 [==============================] - 0s 3ms/step - loss: 29.6940 - mae: 4.1504 - val_loss: 87.9323 - val_mae: 6.6488\n",
      "Epoch 84/100\n",
      "12/12 [==============================] - 0s 3ms/step - loss: 24.0400 - mae: 3.5958 - val_loss: 73.4330 - val_mae: 6.2260\n",
      "Epoch 85/100\n",
      "12/12 [==============================] - 0s 3ms/step - loss: 23.2616 - mae: 3.5043 - val_loss: 76.4376 - val_mae: 5.8244\n",
      "Epoch 86/100\n",
      "12/12 [==============================] - 0s 3ms/step - loss: 23.6810 - mae: 3.6573 - val_loss: 84.8106 - val_mae: 6.0987\n",
      "Epoch 87/100\n",
      "12/12 [==============================] - 0s 3ms/step - loss: 21.6152 - mae: 3.4361 - val_loss: 82.3277 - val_mae: 6.0944\n",
      "Epoch 88/100\n",
      "12/12 [==============================] - 0s 3ms/step - loss: 20.7166 - mae: 3.3654 - val_loss: 79.6516 - val_mae: 6.0322\n",
      "Epoch 89/100\n",
      "12/12 [==============================] - 0s 3ms/step - loss: 21.0849 - mae: 3.4378 - val_loss: 86.8756 - val_mae: 6.3298\n",
      "Epoch 90/100\n",
      "12/12 [==============================] - 0s 3ms/step - loss: 22.4961 - mae: 3.5253 - val_loss: 72.5802 - val_mae: 6.6460\n",
      "Epoch 91/100\n",
      "12/12 [==============================] - 0s 3ms/step - loss: 23.3029 - mae: 3.6180 - val_loss: 72.6992 - val_mae: 5.8457\n",
      "Epoch 92/100\n",
      "12/12 [==============================] - 0s 3ms/step - loss: 23.0515 - mae: 3.4501 - val_loss: 73.1155 - val_mae: 6.8227\n",
      "Epoch 93/100\n",
      "12/12 [==============================] - 0s 3ms/step - loss: 24.7349 - mae: 3.7782 - val_loss: 70.8584 - val_mae: 6.5326\n",
      "Epoch 94/100\n",
      "12/12 [==============================] - 0s 3ms/step - loss: 27.7717 - mae: 4.1150 - val_loss: 91.4599 - val_mae: 6.6024\n",
      "Epoch 95/100\n",
      "12/12 [==============================] - 0s 3ms/step - loss: 24.3956 - mae: 3.7270 - val_loss: 82.4306 - val_mae: 6.2307\n",
      "Epoch 96/100\n",
      "12/12 [==============================] - 0s 3ms/step - loss: 23.8343 - mae: 3.7108 - val_loss: 99.0461 - val_mae: 7.3332\n",
      "Epoch 97/100\n",
      "12/12 [==============================] - 0s 3ms/step - loss: 27.9553 - mae: 4.0804 - val_loss: 85.0356 - val_mae: 6.3661\n",
      "Epoch 98/100\n",
      "12/12 [==============================] - 0s 3ms/step - loss: 30.2425 - mae: 4.1774 - val_loss: 74.4115 - val_mae: 5.6409\n",
      "Epoch 99/100\n",
      "12/12 [==============================] - 0s 3ms/step - loss: 24.0432 - mae: 3.5716 - val_loss: 68.1034 - val_mae: 5.6255\n",
      "Epoch 100/100\n",
      "12/12 [==============================] - 0s 3ms/step - loss: 20.5552 - mae: 3.3413 - val_loss: 70.2398 - val_mae: 5.9506\n"
     ]
    }
   ],
   "source": [
    "history = model.fit(X_train,Y_train,epochs=100,validation_split=0.05,verbose=1)"
   ]
  },
  {
   "cell_type": "code",
   "execution_count": 11,
   "id": "f56bcd55",
   "metadata": {},
   "outputs": [
    {
     "name": "stdout",
     "output_type": "stream",
     "text": [
      "4/4 [==============================] - 0s 4ms/step\n"
     ]
    }
   ],
   "source": [
    "Y_pred = model.predict(x=X_test)"
   ]
  },
  {
   "cell_type": "code",
   "execution_count": 12,
   "id": "dc074eb4",
   "metadata": {},
   "outputs": [
    {
     "name": "stdout",
     "output_type": "stream",
     "text": [
      "Predicted : [12.299185], Actual : [15.]\n",
      "Predicted : [28.294044], Actual : [26.6]\n",
      "Predicted : [39.64716], Actual : [45.4]\n",
      "Predicted : [18.815147], Actual : [20.8]\n",
      "Predicted : [32.21414], Actual : [34.9]\n",
      "Predicted : [33.004723], Actual : [21.9]\n",
      "Predicted : [31.705162], Actual : [28.7]\n",
      "Predicted : [10.98753], Actual : [7.2]\n",
      "Predicted : [15.065002], Actual : [20.]\n",
      "Predicted : [28.934345], Actual : [32.2]\n",
      "Predicted : [31.176964], Actual : [24.1]\n",
      "Predicted : [22.975616], Actual : [18.5]\n",
      "Predicted : [11.041843], Actual : [13.5]\n",
      "Predicted : [32.0206], Actual : [27.]\n",
      "Predicted : [19.428276], Actual : [23.1]\n",
      "Predicted : [23.329006], Actual : [18.9]\n",
      "Predicted : [23.46682], Actual : [24.5]\n",
      "Predicted : [39.317802], Actual : [43.1]\n",
      "Predicted : [19.021759], Actual : [19.8]\n",
      "Predicted : [16.516556], Actual : [13.8]\n",
      "Predicted : [14.308449], Actual : [15.6]\n",
      "Predicted : [27.845688], Actual : [50.]\n",
      "Predicted : [38.465202], Actual : [37.2]\n",
      "Predicted : [39.45739], Actual : [46.]\n",
      "Predicted : [36.435806], Actual : [50.]\n",
      "Predicted : [23.061691], Actual : [21.2]\n",
      "Predicted : [17.219383], Actual : [14.9]\n",
      "Predicted : [25.193466], Actual : [19.6]\n",
      "Predicted : [22.122879], Actual : [19.4]\n",
      "Predicted : [13.988958], Actual : [18.6]\n",
      "Predicted : [28.123047], Actual : [26.5]\n",
      "Predicted : [35.430313], Actual : [32.]\n",
      "Predicted : [10.918449], Actual : [10.9]\n",
      "Predicted : [22.114933], Actual : [20.]\n",
      "Predicted : [24.236366], Actual : [21.4]\n",
      "Predicted : [36.27025], Actual : [31.]\n",
      "Predicted : [26.867256], Actual : [25.]\n",
      "Predicted : [17.44149], Actual : [15.4]\n",
      "Predicted : [15.48278], Actual : [13.1]\n",
      "Predicted : [36.78153], Actual : [37.6]\n",
      "Predicted : [28.76641], Actual : [37.]\n",
      "Predicted : [19.529266], Actual : [18.9]\n",
      "Predicted : [22.972176], Actual : [27.9]\n",
      "Predicted : [45.17505], Actual : [50.]\n",
      "Predicted : [6.653766], Actual : [14.4]\n",
      "Predicted : [25.34687], Actual : [22.]\n",
      "Predicted : [25.324455], Actual : [19.9]\n",
      "Predicted : [27.609138], Actual : [21.6]\n",
      "Predicted : [18.572262], Actual : [15.6]\n",
      "Predicted : [22.527596], Actual : [15.]\n",
      "Predicted : [36.366997], Actual : [32.4]\n",
      "Predicted : [26.534409], Actual : [29.6]\n",
      "Predicted : [25.55589], Actual : [20.4]\n",
      "Predicted : [13.800003], Actual : [12.3]\n",
      "Predicted : [24.441265], Actual : [19.1]\n",
      "Predicted : [17.455505], Actual : [14.9]\n",
      "Predicted : [11.139236], Actual : [17.8]\n",
      "Predicted : [6.533302], Actual : [8.8]\n",
      "Predicted : [37.122025], Actual : [35.4]\n",
      "Predicted : [16.332237], Actual : [11.5]\n",
      "Predicted : [25.235352], Actual : [19.6]\n",
      "Predicted : [23.045254], Actual : [20.6]\n",
      "Predicted : [13.327063], Actual : [15.6]\n",
      "Predicted : [16.878693], Actual : [19.9]\n",
      "Predicted : [23.48391], Actual : [23.3]\n",
      "Predicted : [27.48491], Actual : [22.3]\n",
      "Predicted : [27.526707], Actual : [24.8]\n",
      "Predicted : [15.172958], Actual : [16.1]\n",
      "Predicted : [28.51159], Actual : [22.8]\n",
      "Predicted : [30.433327], Actual : [30.5]\n",
      "Predicted : [21.576057], Actual : [20.4]\n",
      "Predicted : [29.33014], Actual : [24.4]\n",
      "Predicted : [18.65681], Actual : [16.6]\n",
      "Predicted : [28.67619], Actual : [26.2]\n",
      "Predicted : [19.166492], Actual : [16.4]\n",
      "Predicted : [19.0663], Actual : [20.1]\n",
      "Predicted : [12.085213], Actual : [13.9]\n",
      "Predicted : [15.742928], Actual : [19.4]\n",
      "Predicted : [31.311096], Actual : [22.8]\n",
      "Predicted : [3.82019], Actual : [13.8]\n",
      "Predicted : [31.2827], Actual : [31.6]\n",
      "Predicted : [12.351753], Actual : [10.5]\n",
      "Predicted : [27.894112], Actual : [23.8]\n",
      "Predicted : [19.495846], Actual : [22.4]\n",
      "Predicted : [12.829746], Actual : [19.3]\n",
      "Predicted : [27.07351], Actual : [22.2]\n",
      "Predicted : [19.475815], Actual : [12.6]\n",
      "Predicted : [24.641941], Actual : [19.4]\n",
      "Predicted : [21.418491], Actual : [22.2]\n",
      "Predicted : [30.576683], Actual : [29.8]\n",
      "Predicted : [14.008053], Actual : [9.6]\n",
      "Predicted : [31.925919], Actual : [34.9]\n",
      "Predicted : [21.868301], Actual : [21.4]\n",
      "Predicted : [25.573883], Actual : [25.3]\n",
      "Predicted : [31.2109], Actual : [32.9]\n",
      "Predicted : [27.44125], Actual : [26.6]\n",
      "Predicted : [17.454079], Actual : [14.6]\n",
      "Predicted : [34.524513], Actual : [31.5]\n",
      "Predicted : [33.370487], Actual : [23.3]\n",
      "Predicted : [35.378815], Actual : [33.3]\n",
      "Predicted : [22.511345], Actual : [17.5]\n",
      "Predicted : [13.834099], Actual : [19.1]\n",
      "Predicted : [47.000084], Actual : [48.5]\n",
      "Predicted : [16.680916], Actual : [17.1]\n",
      "Predicted : [22.765839], Actual : [23.1]\n",
      "Predicted : [25.41584], Actual : [28.4]\n",
      "Predicted : [18.025326], Actual : [18.9]\n",
      "Predicted : [16.566437], Actual : [13.]\n",
      "Predicted : [17.846489], Actual : [17.2]\n",
      "Predicted : [24.070068], Actual : [24.1]\n",
      "Predicted : [25.400574], Actual : [18.5]\n",
      "Predicted : [22.648933], Actual : [21.8]\n",
      "Predicted : [16.001331], Actual : [13.3]\n",
      "Predicted : [25.393822], Actual : [23.]\n",
      "Predicted : [14.948328], Actual : [14.1]\n",
      "Predicted : [28.322998], Actual : [23.9]\n",
      "Predicted : [31.927292], Actual : [24.]\n",
      "Predicted : [11.162514], Actual : [17.2]\n",
      "Predicted : [25.43573], Actual : [21.5]\n",
      "Predicted : [20.36087], Actual : [19.1]\n",
      "Predicted : [26.922691], Actual : [20.8]\n",
      "Predicted : [41.357944], Actual : [36.]\n",
      "Predicted : [17.16571], Actual : [20.1]\n",
      "Predicted : [10.723732], Actual : [8.7]\n",
      "Predicted : [14.570503], Actual : [13.6]\n",
      "Predicted : [20.612572], Actual : [22.]\n",
      "Predicted : [21.890686], Actual : [22.2]\n"
     ]
    }
   ],
   "source": [
    "for pred, actual in zip(Y_pred,Y_test.values):\n",
    "  print(f\"Predicted : {pred}, Actual : {actual}\")"
   ]
  },
  {
   "cell_type": "code",
   "execution_count": 13,
   "id": "b2c3670e",
   "metadata": {},
   "outputs": [
    {
     "name": "stdout",
     "output_type": "stream",
     "text": [
      "4/4 [==============================] - 0s 2ms/step - loss: 21.8272 - mae: 3.5895\n"
     ]
    }
   ],
   "source": [
    "mse, mae = model.evaluate(X_test,Y_test)"
   ]
  },
  {
   "cell_type": "code",
   "execution_count": 14,
   "id": "d023b664",
   "metadata": {},
   "outputs": [
    {
     "name": "stdout",
     "output_type": "stream",
     "text": [
      "Mean Absolute Error in Prediction :  3.5894510746002197\n",
      "Mean Squared Error in Prediction :  21.827165603637695\n"
     ]
    }
   ],
   "source": [
    "print(\"Mean Absolute Error in Prediction : \", mae)\n",
    "print(\"Mean Squared Error in Prediction : \", mse)"
   ]
  },
  {
   "cell_type": "code",
   "execution_count": null,
   "id": "4b06ee23",
   "metadata": {},
   "outputs": [],
   "source": []
  }
 ],
 "metadata": {
  "kernelspec": {
   "display_name": "Python 3",
   "language": "python",
   "name": "python3"
  },
  "language_info": {
   "codemirror_mode": {
    "name": "ipython",
    "version": 3
   },
   "file_extension": ".py",
   "mimetype": "text/x-python",
   "name": "python",
   "nbconvert_exporter": "python",
   "pygments_lexer": "ipython3",
   "version": "3.8.8"
  }
 },
 "nbformat": 4,
 "nbformat_minor": 5
}
